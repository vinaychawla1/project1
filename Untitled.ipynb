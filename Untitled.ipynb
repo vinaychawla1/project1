{
 "cells": [
  {
   "cell_type": "code",
   "execution_count": 19,
   "id": "9b6f93a7-1a2e-4de4-9100-7ae0a9791b70",
   "metadata": {},
   "outputs": [
    {
     "name": "stdout",
     "output_type": "stream",
     "text": [
      "Python is 👍\n"
     ]
    },
    {
     "name": "stdin",
     "output_type": "stream",
     "text": [
      "Please enter a number (this will be converted to a float):  4444\n",
      "Please enter a text (this will be converted to a string):  Vinay12354w3ksdfsdlkn\n",
      "Please enter an integer (this will be converted to an integer):  433\n"
     ]
    },
    {
     "name": "stdout",
     "output_type": "stream",
     "text": [
      "\n",
      "Converted Values:\n",
      "Float value: 4444.0\n",
      "String value: Vinay12354w3ksdfsdlkn\n",
      "Integer value: 433\n"
     ]
    }
   ],
   "source": [
    "import emoji\n",
    "print(emoji.emojize('Python is :thumbs_up:'))\n",
    "\n",
    "\n",
    "\n",
    "\n",
    "\n",
    "# Ask the user for three variables\n",
    "value_1 = input(\"Please enter a number (this will be converted to a float): \")\n",
    "value_2 = input(\"Please enter a text (this will be converted to a string): \")\n",
    "value_3 = input(\"Please enter an integer (this will be converted to an integer): \")\n",
    "\n",
    "# Convert the inputs to the desired types\n",
    "Float_Value_1 = float(value_1)\n",
    "String_value_2 = str(value_2)\n",
    "Integer_value_3 = int(value_3)\n",
    "\n",
    "# Display the converted values\n",
    "print(\"\\nConverted Values:\")\n",
    "print(f\"Float value: {Float_Value_1}\")\n",
    "print(f\"String value: {String_value_2}\")\n",
    "print(f\"Integer value: {Integer_value_3}\")\n"
   ]
  },
  {
   "cell_type": "code",
   "execution_count": 6,
   "id": "b3f7b1e6-d576-493c-9e4d-d597bb0dd18d",
   "metadata": {},
   "outputs": [
    {
     "name": "stdout",
     "output_type": "stream",
     "text": [
      "The size of float variable is: 24 bytes.\n"
     ]
    }
   ],
   "source": [
    "import sys\n",
    "decimal = 16545612310.087656746745641\n",
    "print('The size of float variable is:',sys.getsizeof(decimal),'bytes.')"
   ]
  },
  {
   "cell_type": "code",
   "execution_count": 10,
   "id": "0d10c3d7-d3c7-4c0b-a592-e0288dc3edbb",
   "metadata": {},
   "outputs": [
    {
     "name": "stdout",
     "output_type": "stream",
     "text": [
      "the size is: 24 bytes\n",
      "24\n"
     ]
    }
   ],
   "source": [
    "print('the size is:' , sys.getsizeof(decimal), 'bytes')\n",
    "\n",
    "size = sys.getsizeof(decimal)\n",
    "print(size)"
   ]
  },
  {
   "cell_type": "code",
   "execution_count": 52,
   "id": "bc01a2a9-ab60-433b-bf47-ccaa0b4bb472",
   "metadata": {},
   "outputs": [
    {
     "name": "stdout",
     "output_type": "stream",
     "text": [
      "55\n"
     ]
    }
   ],
   "source": [
    "import sys\n",
    "\n",
    "my_string = 'Hello, Python!'\n",
    "size_string = sys.getsizeof(my_string)\n",
    "\n",
    "print(size_string)\n"
   ]
  },
  {
   "cell_type": "code",
   "execution_count": 71,
   "id": "3b72fedb-d10c-480e-80c6-c72129ffd8e9",
   "metadata": {},
   "outputs": [
    {
     "name": "stdout",
     "output_type": "stream",
     "text": [
      "Good Morning!-------It is rainy today!\n"
     ]
    }
   ],
   "source": [
    "print('Good Morning!', end= '-------')\n",
    "print('It is rainy today!')"
   ]
  },
  {
   "cell_type": "code",
   "execution_count": 73,
   "id": "fc5dde34-07c4-4b06-885e-ca214aa472d9",
   "metadata": {},
   "outputs": [
    {
     "name": "stdout",
     "output_type": "stream",
     "text": [
      "New Year. 2023. See you soon!\n"
     ]
    }
   ],
   "source": [
    "print('New Year', 2023, 'See you soon!', sep= '. ')"
   ]
  },
  {
   "cell_type": "code",
   "execution_count": 85,
   "id": "1627909d-646d-42be-b596-b6d9bfcae18f",
   "metadata": {},
   "outputs": [
    {
     "name": "stdout",
     "output_type": "stream",
     "text": [
      "New Year. 2023. See you soon!\n"
     ]
    }
   ],
   "source": [
    "print('New Year', 2023, 'See you soon!', sep='. ')"
   ]
  },
  {
   "cell_type": "code",
   "execution_count": null,
   "id": "2424876c-6308-4672-a8d8-88f9eee4bbb0",
   "metadata": {},
   "outputs": [],
   "source": []
  },
  {
   "cell_type": "code",
   "execution_count": 113,
   "id": "88ddac29-f5ec-4cce-8218-7ec4f1b49570",
   "metadata": {},
   "outputs": [
    {
     "name": "stdin",
     "output_type": "stream",
     "text": [
      "Enter your name:  11\n"
     ]
    },
    {
     "name": "stdout",
     "output_type": "stream",
     "text": [
      "Your name: 11\n"
     ]
    },
    {
     "data": {
      "text/plain": [
       "str"
      ]
     },
     "execution_count": 113,
     "metadata": {},
     "output_type": "execute_result"
    }
   ],
   "source": [
    "name = input('Enter your name: ') \n",
    "print('Your name:', name)\n",
    "\n",
    "type(name)"
   ]
  },
  {
   "cell_type": "code",
   "execution_count": 111,
   "id": "39471299-4dc0-48b8-b994-fee18653c3e2",
   "metadata": {},
   "outputs": [
    {
     "name": "stdin",
     "output_type": "stream",
     "text": [
      " 42.3\n"
     ]
    },
    {
     "ename": "ValueError",
     "evalue": "invalid literal for int() with base 10: '42.3'",
     "output_type": "error",
     "traceback": [
      "\u001b[1;31m---------------------------------------------------------------------------\u001b[0m",
      "\u001b[1;31mValueError\u001b[0m                                Traceback (most recent call last)",
      "Cell \u001b[1;32mIn[111], line 1\u001b[0m\n\u001b[1;32m----> 1\u001b[0m age \u001b[38;5;241m=\u001b[39m \u001b[38;5;28mint\u001b[39m(\u001b[38;5;28minput\u001b[39m())\n\u001b[0;32m      3\u001b[0m \u001b[38;5;28mprint\u001b[39m(\u001b[38;5;124m'\u001b[39m\u001b[38;5;124myour age:\u001b[39m\u001b[38;5;124m'\u001b[39m , age)\n",
      "\u001b[1;31mValueError\u001b[0m: invalid literal for int() with base 10: '42.3'"
     ]
    }
   ],
   "source": [
    "age = int(input())\n",
    "\n",
    "print('your age:' , age)\n"
   ]
  },
  {
   "cell_type": "code",
   "execution_count": 121,
   "id": "df7fe586-ac0f-41fd-a696-2fd28982b9bc",
   "metadata": {},
   "outputs": [
    {
     "name": "stdout",
     "output_type": "stream",
     "text": [
      "Tiwari\n"
     ]
    },
    {
     "data": {
      "text/plain": [
       "str"
      ]
     },
     "execution_count": 121,
     "metadata": {},
     "output_type": "execute_result"
    }
   ],
   "source": [
    "name = rahul = 'Tiwari'\n",
    "\n",
    "print(name)\n",
    "\n",
    "type(name)\n"
   ]
  },
  {
   "cell_type": "code",
   "execution_count": 123,
   "id": "d37ee6ef-da3a-47b4-b460-3fd5a868b417",
   "metadata": {},
   "outputs": [
    {
     "data": {
      "text/plain": [
       "['False',\n",
       " 'None',\n",
       " 'True',\n",
       " 'and',\n",
       " 'as',\n",
       " 'assert',\n",
       " 'async',\n",
       " 'await',\n",
       " 'break',\n",
       " 'class',\n",
       " 'continue',\n",
       " 'def',\n",
       " 'del',\n",
       " 'elif',\n",
       " 'else',\n",
       " 'except',\n",
       " 'finally',\n",
       " 'for',\n",
       " 'from',\n",
       " 'global',\n",
       " 'if',\n",
       " 'import',\n",
       " 'in',\n",
       " 'is',\n",
       " 'lambda',\n",
       " 'nonlocal',\n",
       " 'not',\n",
       " 'or',\n",
       " 'pass',\n",
       " 'raise',\n",
       " 'return',\n",
       " 'try',\n",
       " 'while',\n",
       " 'with',\n",
       " 'yield']"
      ]
     },
     "execution_count": 123,
     "metadata": {},
     "output_type": "execute_result"
    }
   ],
   "source": [
    "import keyword\n",
    "keyword.kwlist"
   ]
  },
  {
   "cell_type": "code",
   "execution_count": 127,
   "id": "972ca059-82ff-43d4-856b-27f0138e0667",
   "metadata": {},
   "outputs": [
    {
     "data": {
      "text/plain": [
       "2297694576224"
      ]
     },
     "execution_count": 127,
     "metadata": {},
     "output_type": "execute_result"
    }
   ],
   "source": [
    "name = 'Vinay'\n",
    "id(name)\n",
    "\n"
   ]
  },
  {
   "cell_type": "code",
   "execution_count": 131,
   "id": "3531521b-7bdf-4b9f-8d33-3e1cd0bae8a4",
   "metadata": {},
   "outputs": [
    {
     "data": {
      "text/plain": [
       "2297694576224"
      ]
     },
     "execution_count": 131,
     "metadata": {},
     "output_type": "execute_result"
    }
   ],
   "source": [
    "name = 'Vinay'\n",
    "id(name)"
   ]
  },
  {
   "cell_type": "code",
   "execution_count": 152,
   "id": "3daabde2-4704-4d8e-83bd-947e3b5febbe",
   "metadata": {},
   "outputs": [
    {
     "data": {
      "text/plain": [
       "float"
      ]
     },
     "execution_count": 152,
     "metadata": {},
     "output_type": "execute_result"
    }
   ],
   "source": [
    "import math\n",
    "\n",
    "x = math.sqrt(100)\n",
    "type(x)\n"
   ]
  },
  {
   "cell_type": "code",
   "execution_count": 160,
   "id": "4e40730b-7025-4835-a759-65c63aa7ad28",
   "metadata": {},
   "outputs": [
    {
     "name": "stdout",
     "output_type": "stream",
     "text": [
      "1\n"
     ]
    }
   ],
   "source": [
    "import math\n",
    "x = 1000\n",
    "y = 3\n",
    "z = x//y\n",
    "d = x%y\n",
    "print(d)"
   ]
  },
  {
   "cell_type": "code",
   "execution_count": 3,
   "id": "99944821-8b48-44fb-ac47-0497c4343a27",
   "metadata": {},
   "outputs": [
    {
     "name": "stdout",
     "output_type": "stream",
     "text": [
      "30\n"
     ]
    }
   ],
   "source": [
    "X = 10\n",
    "X +=20\n",
    "print(X)\n"
   ]
  }
 ],
 "metadata": {
  "kernelspec": {
   "display_name": "Python 3 (ipykernel)",
   "language": "python",
   "name": "python3"
  },
  "language_info": {
   "codemirror_mode": {
    "name": "ipython",
    "version": 3
   },
   "file_extension": ".py",
   "mimetype": "text/x-python",
   "name": "python",
   "nbconvert_exporter": "python",
   "pygments_lexer": "ipython3",
   "version": "3.12.4"
  }
 },
 "nbformat": 4,
 "nbformat_minor": 5
}
